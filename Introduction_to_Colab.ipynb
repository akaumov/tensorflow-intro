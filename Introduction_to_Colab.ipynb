{
  "nbformat": 4,
  "nbformat_minor": 0,
  "metadata": {
    "colab": {
      "name": "Introduction to Colab",
      "version": "0.3.2",
      "provenance": [],
      "collapsed_sections": [],
      "toc_visible": true,
      "include_colab_link": true
    },
    "kernelspec": {
      "name": "python3",
      "display_name": "Python 3"
    }
  },
  "cells": [
    {
      "cell_type": "markdown",
      "metadata": {
        "id": "view-in-github",
        "colab_type": "text"
      },
      "source": [
        "<a href=\"https://colab.research.google.com/github/akaumov/tensorflow-intro/blob/master/Introduction_to_Colab.ipynb\" target=\"_parent\"><img src=\"https://colab.research.google.com/assets/colab-badge.svg\" alt=\"Open In Colab\"/></a>"
      ]
    },
    {
      "cell_type": "markdown",
      "metadata": {
        "id": "sA8OJQ0LtMDT",
        "colab_type": "text"
      },
      "source": [
        "# The Colab.\n",
        "\n",
        "## Introduction\n",
        "Colab is Python development environment that executes in browser using google cloud.\n",
        "\n",
        "Let's connect dependencies for backward compability. (**Run the code by clicking inside square brackets!**)"
      ]
    },
    {
      "cell_type": "code",
      "metadata": {
        "id": "l36PKVj-th-m",
        "colab_type": "code",
        "colab": {}
      },
      "source": [
        "from __future__ import absolute_import, division, print_function, unicode_literals"
      ],
      "execution_count": 0,
      "outputs": []
    },
    {
      "cell_type": "markdown",
      "metadata": {
        "id": "8whylgyFJgbt",
        "colab_type": "text"
      },
      "source": [
        "## Our first line of code\n",
        "\n",
        "Let's print the \"Hello world\" sentence"
      ]
    },
    {
      "cell_type": "code",
      "metadata": {
        "id": "UfgUclnmtt-U",
        "colab_type": "code",
        "outputId": "71b7d7e3-245c-40c2-e08b-75eed4251c2a",
        "colab": {
          "base_uri": "https://localhost:8080/",
          "height": 34
        }
      },
      "source": [
        "print(\"Hello world!\")"
      ],
      "execution_count": 23,
      "outputs": [
        {
          "output_type": "stream",
          "text": [
            "Hello world!\n"
          ],
          "name": "stdout"
        }
      ]
    },
    {
      "cell_type": "markdown",
      "metadata": {
        "id": "YkIFmTvauU8N",
        "colab_type": "text"
      },
      "source": [
        "## Functions, iterations and loops\n",
        "\n"
      ]
    },
    {
      "cell_type": "code",
      "metadata": {
        "id": "so2uzmqiueVD",
        "colab_type": "code",
        "outputId": "bbd51129-2f79-40ad-bdb4-8337b5e327ab",
        "colab": {
          "base_uri": "https://localhost:8080/",
          "height": 323
        }
      },
      "source": [
        "def calcXY(x,y):\n",
        "  if x < 10:\n",
        "    print(\"x < 10\")\n",
        "  elif x > 10 and x < 20:\n",
        "    print(\"x > 10 and x < 20\")\n",
        "  else:\n",
        "    print(\"x > 20\")\n",
        "  return x + y\n",
        "\n",
        "for i in range(8, 25, 2):\n",
        "  print('calcXY({}) => {}'.format(i, calcXY(i, i)))"
      ],
      "execution_count": 24,
      "outputs": [
        {
          "output_type": "stream",
          "text": [
            "x < 10\n",
            "calcXY(8) => 16\n",
            "x > 20\n",
            "calcXY(10) => 20\n",
            "x > 10 and x < 20\n",
            "calcXY(12) => 24\n",
            "x > 10 and x < 20\n",
            "calcXY(14) => 28\n",
            "x > 10 and x < 20\n",
            "calcXY(16) => 32\n",
            "x > 10 and x < 20\n",
            "calcXY(18) => 36\n",
            "x > 20\n",
            "calcXY(20) => 40\n",
            "x > 20\n",
            "calcXY(22) => 44\n",
            "x > 20\n",
            "calcXY(24) => 48\n"
          ],
          "name": "stdout"
        }
      ]
    },
    {
      "cell_type": "markdown",
      "metadata": {
        "id": "q_nZKFYU7EVa",
        "colab_type": "text"
      },
      "source": [
        "## NumPy and lists\n",
        "\n",
        "NumPy is the fundamental package for scientific computing in Python.\n",
        "\n",
        "It is a Python library that provides a multidimensional array object, various derived objects (such as masked arrays and matrices), and an assortment of routines for fast operations on arrays, including mathematical, logical, shape manipulation, sorting, selecting, I/O, discrete Fourier transforms, basic linear algebra, basic statistical operations, random simulation and much more.\n",
        "\n",
        "If you want to learn more about NumPy you can use these links:\n",
        "\n",
        "\n",
        "\n",
        "*   [Official Documentation](https://docs.scipy.org/doc/numpy/user/)\n",
        "*   [Quick Tutorial](http://cs231n.github.io/python-numpy-tutorial/)\n",
        "\n"
      ]
    },
    {
      "cell_type": "code",
      "metadata": {
        "id": "X6lXABWw7JD4",
        "colab_type": "code",
        "colab": {}
      },
      "source": [
        "#import numpy library\n",
        "import numpy as np"
      ],
      "execution_count": 0,
      "outputs": []
    },
    {
      "cell_type": "code",
      "metadata": {
        "id": "IfH20t1N5SfD",
        "colab_type": "code",
        "outputId": "4094c86c-0589-42a1-8dbb-9ee7fc1bd060",
        "colab": {
          "base_uri": "https://localhost:8080/",
          "height": 51
        }
      },
      "source": [
        "#Creating numpy arrays\n",
        "\n",
        "a = np.array([1,2])\n",
        "b = np.append(a, 3)\n",
        "print(\"a = {}\".format(a))\n",
        "print(\"b = {}\".format(b))"
      ],
      "execution_count": 26,
      "outputs": [
        {
          "output_type": "stream",
          "text": [
            "a = [1 2]\n",
            "b = [1 2 3]\n"
          ],
          "name": "stdout"
        }
      ]
    },
    {
      "cell_type": "code",
      "metadata": {
        "id": "me6sW63i7eJ-",
        "colab_type": "code",
        "outputId": "ea8637b7-907c-4ef7-d8eb-a129681af0b8",
        "colab": {
          "base_uri": "https://localhost:8080/",
          "height": 68
        }
      },
      "source": [
        "for i, v in enumerate(b):\n",
        "  print(\"index = {} value = {}\".format(i, v))"
      ],
      "execution_count": 27,
      "outputs": [
        {
          "output_type": "stream",
          "text": [
            "index = 0 value = 1\n",
            "index = 1 value = 2\n",
            "index = 2 value = 3\n"
          ],
          "name": "stdout"
        }
      ]
    },
    {
      "cell_type": "code",
      "metadata": {
        "id": "saIaJkOR8oO8",
        "colab_type": "code",
        "outputId": "71bf991c-87f0-49a4-d2e9-515f6d67f38a",
        "colab": {
          "base_uri": "https://localhost:8080/",
          "height": 34
        }
      },
      "source": [
        "print(\"Max value = {}\".format(np.max(b)))"
      ],
      "execution_count": 28,
      "outputs": [
        {
          "output_type": "stream",
          "text": [
            "Max value = 3\n"
          ],
          "name": "stdout"
        }
      ]
    },
    {
      "cell_type": "code",
      "metadata": {
        "id": "hXP67GFo83iM",
        "colab_type": "code",
        "outputId": "e14a9ef4-b7c5-4f89-a9eb-4a955550f474",
        "colab": {
          "base_uri": "https://localhost:8080/",
          "height": 34
        }
      },
      "source": [
        "print(\"Average value = {}\".format(np.average(b)))"
      ],
      "execution_count": 29,
      "outputs": [
        {
          "output_type": "stream",
          "text": [
            "Average value = 2.0\n"
          ],
          "name": "stdout"
        }
      ]
    },
    {
      "cell_type": "code",
      "metadata": {
        "id": "DBPqoU-18--l",
        "colab_type": "code",
        "outputId": "98213eef-93c3-4da0-edaf-89e95c49dd2f",
        "colab": {
          "base_uri": "https://localhost:8080/",
          "height": 34
        }
      },
      "source": [
        "print(\"Max index = {}\".format(np.argmax(b)))"
      ],
      "execution_count": 30,
      "outputs": [
        {
          "output_type": "stream",
          "text": [
            "Max index = 2\n"
          ],
          "name": "stdout"
        }
      ]
    },
    {
      "cell_type": "code",
      "metadata": {
        "id": "iZuMdwui9vFL",
        "colab_type": "code",
        "outputId": "e18ee641-760e-4b62-d256-f7c255197270",
        "colab": {
          "base_uri": "https://localhost:8080/",
          "height": 34
        }
      },
      "source": [
        "print(\"Type of b = {}\", type(b))"
      ],
      "execution_count": 31,
      "outputs": [
        {
          "output_type": "stream",
          "text": [
            "Type of b = {} <class 'numpy.ndarray'>\n"
          ],
          "name": "stdout"
        }
      ]
    },
    {
      "cell_type": "code",
      "metadata": {
        "id": "Q9KjRjyJ-FzD",
        "colab_type": "code",
        "outputId": "d7003ef7-99d8-452f-9755-0af3d819bdfc",
        "colab": {
          "base_uri": "https://localhost:8080/",
          "height": 646
        }
      },
      "source": [
        "rnd = np.random.rand(3, 3,3, 3)\n",
        "print(rnd)"
      ],
      "execution_count": 32,
      "outputs": [
        {
          "output_type": "stream",
          "text": [
            "[[[[0.19539305 0.28131767 0.12380207]\n",
            "   [0.0691764  0.31912212 0.54538568]\n",
            "   [0.94465105 0.78838315 0.70148933]]\n",
            "\n",
            "  [[0.7235741  0.02585023 0.40730228]\n",
            "   [0.32342419 0.77998236 0.28793912]\n",
            "   [0.02048706 0.65649224 0.65949628]]\n",
            "\n",
            "  [[0.85402365 0.50585138 0.68941116]\n",
            "   [0.16884251 0.67689413 0.48449254]\n",
            "   [0.84411363 0.44293161 0.16328479]]]\n",
            "\n",
            "\n",
            " [[[0.33123324 0.72132401 0.48256743]\n",
            "   [0.10567121 0.50267561 0.03090486]\n",
            "   [0.70455901 0.29192943 0.26784752]]\n",
            "\n",
            "  [[0.76131183 0.24529287 0.83522958]\n",
            "   [0.23573758 0.70620719 0.19842737]\n",
            "   [0.00904972 0.71890765 0.49673119]]\n",
            "\n",
            "  [[0.32103952 0.09783389 0.60106753]\n",
            "   [0.00949495 0.09480089 0.01616679]\n",
            "   [0.11037419 0.860412   0.13832613]]]\n",
            "\n",
            "\n",
            " [[[0.76750276 0.70578991 0.93887403]\n",
            "   [0.15240548 0.52446046 0.24979387]\n",
            "   [0.95560913 0.66878385 0.62991623]]\n",
            "\n",
            "  [[0.03010918 0.60747582 0.7426905 ]\n",
            "   [0.46492019 0.94308128 0.63990563]\n",
            "   [0.19290089 0.36214437 0.40112098]]\n",
            "\n",
            "  [[0.08900091 0.94092114 0.85164447]\n",
            "   [0.0440474  0.39444374 0.51687684]\n",
            "   [0.89047809 0.46216673 0.42898189]]]]\n"
          ],
          "name": "stdout"
        }
      ]
    },
    {
      "cell_type": "code",
      "metadata": {
        "id": "Y8L0vzW1-ZD0",
        "colab_type": "code",
        "outputId": "2e23f385-4925-4283-ae16-45a9c6057c43",
        "colab": {
          "base_uri": "https://localhost:8080/",
          "height": 34
        }
      },
      "source": [
        "print(\"Shape of a = {}\".format(a.shape))"
      ],
      "execution_count": 33,
      "outputs": [
        {
          "output_type": "stream",
          "text": [
            "Shape of a = (2,)\n"
          ],
          "name": "stdout"
        }
      ]
    },
    {
      "cell_type": "code",
      "metadata": {
        "id": "x6Ob-3hiBOqW",
        "colab_type": "code",
        "outputId": "a556f615-b0ac-4a09-b9e1-30f8fb0d76ee",
        "colab": {
          "base_uri": "https://localhost:8080/",
          "height": 34
        }
      },
      "source": [
        "print(\"Shape of rnd = {}\".format(rnd.shape))"
      ],
      "execution_count": 34,
      "outputs": [
        {
          "output_type": "stream",
          "text": [
            "Shape of rnd = (3, 3, 3, 3)\n"
          ],
          "name": "stdout"
        }
      ]
    },
    {
      "cell_type": "markdown",
      "metadata": {
        "id": "drbY_hKEBdVs",
        "colab_type": "text"
      },
      "source": [
        "## Colab Specifics\n",
        "\n",
        "Because all code executes in the virtual machine you can run linux commands.\n",
        "\n",
        "Let's print current working directory by executing the \"pwd\" command."
      ]
    },
    {
      "cell_type": "code",
      "metadata": {
        "id": "MjnvgnLlBgN4",
        "colab_type": "code",
        "outputId": "08f7b8c5-8096-473a-ac1e-dc34cc7f6413",
        "colab": {
          "base_uri": "https://localhost:8080/",
          "height": 34
        }
      },
      "source": [
        "!pwd"
      ],
      "execution_count": 35,
      "outputs": [
        {
          "output_type": "stream",
          "text": [
            "/content\n"
          ],
          "name": "stdout"
        }
      ]
    },
    {
      "cell_type": "code",
      "metadata": {
        "id": "dYWPV8uTBhyZ",
        "colab_type": "code",
        "outputId": "faa20530-3ca9-4fbb-fb40-d2787ab119e4",
        "colab": {
          "base_uri": "https://localhost:8080/",
          "height": 51
        }
      },
      "source": [
        "!ls -l"
      ],
      "execution_count": 36,
      "outputs": [
        {
          "output_type": "stream",
          "text": [
            "total 4\n",
            "drwxr-xr-x 1 root root 4096 Jun 18 16:14 sample_data\n"
          ],
          "name": "stdout"
        }
      ]
    },
    {
      "cell_type": "code",
      "metadata": {
        "id": "t0oqt7eZBnKJ",
        "colab_type": "code",
        "outputId": "88f8af2a-5871-4023-8283-4122fab974ca",
        "colab": {
          "base_uri": "https://localhost:8080/",
          "height": 102
        }
      },
      "source": [
        "!cd /\n",
        "!ls -la"
      ],
      "execution_count": 37,
      "outputs": [
        {
          "output_type": "stream",
          "text": [
            "total 16\n",
            "drwxr-xr-x 1 root root 4096 Jun 18 16:14 .\n",
            "drwxr-xr-x 1 root root 4096 Jun 28 09:15 ..\n",
            "drwxr-xr-x 1 root root 4096 Jun 18 16:14 .config\n",
            "drwxr-xr-x 1 root root 4096 Jun 18 16:14 sample_data\n"
          ],
          "name": "stdout"
        }
      ]
    },
    {
      "cell_type": "markdown",
      "metadata": {
        "id": "2joisGvbZUb0",
        "colab_type": "text"
      },
      "source": [
        "Let's print the \"sample_data\" directory content"
      ]
    },
    {
      "cell_type": "code",
      "metadata": {
        "id": "39lKryZrBsjy",
        "colab_type": "code",
        "outputId": "8e14d09e-43bb-4034-b0d7-ae30c1e02f28",
        "colab": {
          "base_uri": "https://localhost:8080/",
          "height": 170
        }
      },
      "source": [
        "!ls -la ./sample_data"
      ],
      "execution_count": 38,
      "outputs": [
        {
          "output_type": "stream",
          "text": [
            "total 55512\n",
            "drwxr-xr-x 1 root root     4096 Jun 18 16:14 .\n",
            "drwxr-xr-x 1 root root     4096 Jun 18 16:14 ..\n",
            "-r-xr-xr-x 1 root root     1697 Jan  1  2000 anscombe.json\n",
            "-rw-r--r-- 1 root root   301141 Jun 18 16:14 california_housing_test.csv\n",
            "-rw-r--r-- 1 root root  1706430 Jun 18 16:14 california_housing_train.csv\n",
            "-rw-r--r-- 1 root root 18289443 Jun 18 16:14 mnist_test.csv\n",
            "-rw-r--r-- 1 root root 36523880 Jun 18 16:14 mnist_train_small.csv\n",
            "-r-xr-xr-x 1 root root      930 Jan  1  2000 README.md\n"
          ],
          "name": "stdout"
        }
      ]
    },
    {
      "cell_type": "markdown",
      "metadata": {
        "id": "07idwWTLZhH_",
        "colab_type": "text"
      },
      "source": [
        "Let's print the content one of the files"
      ]
    },
    {
      "cell_type": "code",
      "metadata": {
        "id": "C6HcKz0yYP-B",
        "colab_type": "code",
        "colab": {
          "base_uri": "https://localhost:8080/",
          "height": 1000
        },
        "outputId": "736d2dea-1517-4c8f-fcba-f1ab97ba034b"
      },
      "source": [
        "!ls -la ./sample_data\n",
        "!cat ./sample_data/anscombe.json"
      ],
      "execution_count": 39,
      "outputs": [
        {
          "output_type": "stream",
          "text": [
            "total 55512\n",
            "drwxr-xr-x 1 root root     4096 Jun 18 16:14 .\n",
            "drwxr-xr-x 1 root root     4096 Jun 18 16:14 ..\n",
            "-r-xr-xr-x 1 root root     1697 Jan  1  2000 anscombe.json\n",
            "-rw-r--r-- 1 root root   301141 Jun 18 16:14 california_housing_test.csv\n",
            "-rw-r--r-- 1 root root  1706430 Jun 18 16:14 california_housing_train.csv\n",
            "-rw-r--r-- 1 root root 18289443 Jun 18 16:14 mnist_test.csv\n",
            "-rw-r--r-- 1 root root 36523880 Jun 18 16:14 mnist_train_small.csv\n",
            "-r-xr-xr-x 1 root root      930 Jan  1  2000 README.md\n",
            "[\n",
            "  {\"Series\":\"I\", \"X\":10.0, \"Y\":8.04},\n",
            "  {\"Series\":\"I\", \"X\":8.0, \"Y\":6.95},\n",
            "  {\"Series\":\"I\", \"X\":13.0, \"Y\":7.58},\n",
            "  {\"Series\":\"I\", \"X\":9.0, \"Y\":8.81},\n",
            "  {\"Series\":\"I\", \"X\":11.0, \"Y\":8.33},\n",
            "  {\"Series\":\"I\", \"X\":14.0, \"Y\":9.96},\n",
            "  {\"Series\":\"I\", \"X\":6.0, \"Y\":7.24},\n",
            "  {\"Series\":\"I\", \"X\":4.0, \"Y\":4.26},\n",
            "  {\"Series\":\"I\", \"X\":12.0, \"Y\":10.84},\n",
            "  {\"Series\":\"I\", \"X\":7.0, \"Y\":4.81},\n",
            "  {\"Series\":\"I\", \"X\":5.0, \"Y\":5.68},\n",
            "\n",
            "  {\"Series\":\"II\", \"X\":10.0, \"Y\":9.14},\n",
            "  {\"Series\":\"II\", \"X\":8.0, \"Y\":8.14},\n",
            "  {\"Series\":\"II\", \"X\":13.0, \"Y\":8.74},\n",
            "  {\"Series\":\"II\", \"X\":9.0, \"Y\":8.77},\n",
            "  {\"Series\":\"II\", \"X\":11.0, \"Y\":9.26},\n",
            "  {\"Series\":\"II\", \"X\":14.0, \"Y\":8.10},\n",
            "  {\"Series\":\"II\", \"X\":6.0, \"Y\":6.13},\n",
            "  {\"Series\":\"II\", \"X\":4.0, \"Y\":3.10},\n",
            "  {\"Series\":\"II\", \"X\":12.0, \"Y\":9.13},\n",
            "  {\"Series\":\"II\", \"X\":7.0, \"Y\":7.26},\n",
            "  {\"Series\":\"II\", \"X\":5.0, \"Y\":4.74},\n",
            "\n",
            "  {\"Series\":\"III\", \"X\":10.0, \"Y\":7.46},\n",
            "  {\"Series\":\"III\", \"X\":8.0, \"Y\":6.77},\n",
            "  {\"Series\":\"III\", \"X\":13.0, \"Y\":12.74},\n",
            "  {\"Series\":\"III\", \"X\":9.0, \"Y\":7.11},\n",
            "  {\"Series\":\"III\", \"X\":11.0, \"Y\":7.81},\n",
            "  {\"Series\":\"III\", \"X\":14.0, \"Y\":8.84},\n",
            "  {\"Series\":\"III\", \"X\":6.0, \"Y\":6.08},\n",
            "  {\"Series\":\"III\", \"X\":4.0, \"Y\":5.39},\n",
            "  {\"Series\":\"III\", \"X\":12.0, \"Y\":8.15},\n",
            "  {\"Series\":\"III\", \"X\":7.0, \"Y\":6.42},\n",
            "  {\"Series\":\"III\", \"X\":5.0, \"Y\":5.73},\n",
            "\n",
            "  {\"Series\":\"IV\", \"X\":8.0, \"Y\":6.58},\n",
            "  {\"Series\":\"IV\", \"X\":8.0, \"Y\":5.76},\n",
            "  {\"Series\":\"IV\", \"X\":8.0, \"Y\":7.71},\n",
            "  {\"Series\":\"IV\", \"X\":8.0, \"Y\":8.84},\n",
            "  {\"Series\":\"IV\", \"X\":8.0, \"Y\":8.47},\n",
            "  {\"Series\":\"IV\", \"X\":8.0, \"Y\":7.04},\n",
            "  {\"Series\":\"IV\", \"X\":8.0, \"Y\":5.25},\n",
            "  {\"Series\":\"IV\", \"X\":19.0, \"Y\":12.50},\n",
            "  {\"Series\":\"IV\", \"X\":8.0, \"Y\":5.56},\n",
            "  {\"Series\":\"IV\", \"X\":8.0, \"Y\":7.91},\n",
            "  {\"Series\":\"IV\", \"X\":8.0, \"Y\":6.89}\n",
            "]\n"
          ],
          "name": "stdout"
        }
      ]
    }
  ]
}