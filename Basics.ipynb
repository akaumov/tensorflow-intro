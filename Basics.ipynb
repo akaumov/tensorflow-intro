{
  "nbformat": 4,
  "nbformat_minor": 0,
  "metadata": {
    "colab": {
      "name": "Basics.ipynb",
      "version": "0.3.2",
      "provenance": [],
      "collapsed_sections": [],
      "include_colab_link": true
    },
    "kernelspec": {
      "name": "python3",
      "display_name": "Python 3"
    }
  },
  "cells": [
    {
      "cell_type": "markdown",
      "metadata": {
        "id": "view-in-github",
        "colab_type": "text"
      },
      "source": [
        "<a href=\"https://colab.research.google.com/github/akaumov/tensorflow-intro/blob/master/Basics.ipynb\" target=\"_parent\"><img src=\"https://colab.research.google.com/assets/colab-badge.svg\" alt=\"Open In Colab\"/></a>"
      ]
    },
    {
      "cell_type": "markdown",
      "metadata": {
        "id": "xwAXTfYJC3pH",
        "colab_type": "text"
      },
      "source": [
        "**The Basics. Training first model.**"
      ]
    },
    {
      "cell_type": "markdown",
      "metadata": {
        "id": "caxQc2HjDXkv",
        "colab_type": "text"
      },
      "source": [
        "Farengeit function"
      ]
    },
    {
      "cell_type": "code",
      "metadata": {
        "id": "i-uaPXgpDMgl",
        "colab_type": "code",
        "colab": {}
      },
      "source": [
        "def F(x):\n",
        "  return x*1.8 + 32"
      ],
      "execution_count": 0,
      "outputs": []
    },
    {
      "cell_type": "markdown",
      "metadata": {
        "id": "WngldzTPFZ_M",
        "colab_type": "text"
      },
      "source": [
        ""
      ]
    },
    {
      "cell_type": "code",
      "metadata": {
        "id": "VEMwUEBsDb-P",
        "colab_type": "code",
        "outputId": "73c15a7e-13ea-4962-896a-5a0d823cbbf6",
        "colab": {
          "base_uri": "https://localhost:8080/",
          "height": 221
        }
      },
      "source": [
        "import numpy as np\n",
        "\n",
        "celcius_values = np.array([])\n",
        "farengheit_values = np.array([])\n",
        "\n",
        "for value in range(0,32,3):\n",
        "  celcius_values = np.append(celcius_values, value)\n",
        "  farengheit_values = np.append(farengheit_values, F(value))\n",
        "  print(\"Celcius = {} Farengheit = {}\".format(value, F(value)))\n",
        "  \n",
        "print(\"values => {} {}\".format(celcius_values, farengheit_values))\n",
        "  "
      ],
      "execution_count": 119,
      "outputs": [
        {
          "output_type": "stream",
          "text": [
            "Celcius = 0 Farengheit = 32.0\n",
            "Celcius = 3 Farengheit = 37.4\n",
            "Celcius = 6 Farengheit = 42.8\n",
            "Celcius = 9 Farengheit = 48.2\n",
            "Celcius = 12 Farengheit = 53.6\n",
            "Celcius = 15 Farengheit = 59.0\n",
            "Celcius = 18 Farengheit = 64.4\n",
            "Celcius = 21 Farengheit = 69.80000000000001\n",
            "Celcius = 24 Farengheit = 75.2\n",
            "Celcius = 27 Farengheit = 80.6\n",
            "Celcius = 30 Farengheit = 86.0\n",
            "values => [ 0.  3.  6.  9. 12. 15. 18. 21. 24. 27. 30.] [32.  37.4 42.8 48.2 53.6 59.  64.4 69.8 75.2 80.6 86. ]\n"
          ],
          "name": "stdout"
        }
      ]
    },
    {
      "cell_type": "code",
      "metadata": {
        "id": "hTtJamVhEkmA",
        "colab_type": "code",
        "colab": {}
      },
      "source": [
        "import tensorflow as tf"
      ],
      "execution_count": 0,
      "outputs": []
    },
    {
      "cell_type": "code",
      "metadata": {
        "id": "CA5yAfUsFBe9",
        "colab_type": "code",
        "colab": {}
      },
      "source": [
        "#setup tensor flow logger\n",
        "\n",
        "import logging\n",
        "\n",
        "logger = tf.get_logger();\n",
        "logger.setLevel(logging.ERROR)"
      ],
      "execution_count": 0,
      "outputs": []
    },
    {
      "cell_type": "markdown",
      "metadata": {
        "id": "69iWlsDCF9Rf",
        "colab_type": "text"
      },
      "source": [
        "# Create the model\n",
        "\n",
        "## Build a layer\n",
        "\n",
        "\n",
        "*   input_shape=[1] - Tells that we will use for input single value. That is, shape is a one-dimensional array;\n",
        "*   units=1 - Tells use only one neuron in the layer. Also it shows that this layer will have only one output\n",
        "\n",
        "\n"
      ]
    },
    {
      "cell_type": "code",
      "metadata": {
        "id": "B2DupNOpGTDm",
        "colab_type": "code",
        "colab": {}
      },
      "source": [
        "l0 = tf.keras.layers.Dense(units=1, input_shape=[1])"
      ],
      "execution_count": 0,
      "outputs": []
    },
    {
      "cell_type": "markdown",
      "metadata": {
        "id": "bHiSp6y1HzOE",
        "colab_type": "text"
      },
      "source": [
        "## Build model from layers"
      ]
    },
    {
      "cell_type": "code",
      "metadata": {
        "id": "9FXlwVipGohO",
        "colab_type": "code",
        "colab": {}
      },
      "source": [
        "model = tf.keras.Sequential([l0])"
      ],
      "execution_count": 0,
      "outputs": []
    },
    {
      "cell_type": "markdown",
      "metadata": {
        "id": "WQBGYH_IILaB",
        "colab_type": "text"
      },
      "source": [
        "## Compile the model, with loss and optimizer functions\n",
        "\n",
        "\n",
        "*   Loss function - shows how far predicted value from desired value\n",
        "*   Optimizer function - adjust internal values to reduce the loss\n",
        "\n"
      ]
    },
    {
      "cell_type": "code",
      "metadata": {
        "id": "rRaaLrnpGhTM",
        "colab_type": "code",
        "colab": {}
      },
      "source": [
        "model.compile(loss='mean_squared_error', optimizer=tf.keras.optimizers.Adam(0.1))"
      ],
      "execution_count": 0,
      "outputs": []
    },
    {
      "cell_type": "markdown",
      "metadata": {
        "id": "jzyvYYnML-KX",
        "colab_type": "text"
      },
      "source": [
        "## Train the model\n",
        "\n",
        "**fit** function trains the model by using loss function and optimizer function. We provide to train function input and output values. Trainig function adjusts internal weights by using optimizer function."
      ]
    },
    {
      "cell_type": "code",
      "metadata": {
        "id": "71RkSwXYMgbk",
        "colab_type": "code",
        "colab": {}
      },
      "source": [
        "history = model.fit(celcius_values, farengheit_values, epochs=1000, verbose=False)"
      ],
      "execution_count": 0,
      "outputs": []
    },
    {
      "cell_type": "markdown",
      "metadata": {
        "id": "xEphV0F7N_P9",
        "colab_type": "text"
      },
      "source": [
        "## Display training statistics\n",
        "\n",
        "The graphic below shows how loss is reduce in each training epoch"
      ]
    },
    {
      "cell_type": "code",
      "metadata": {
        "id": "_6ElGwj9M1Yp",
        "colab_type": "code",
        "outputId": "db703c82-4167-4494-ae9e-27199f61d6c7",
        "colab": {
          "base_uri": "https://localhost:8080/",
          "height": 300
        }
      },
      "source": [
        "import matplotlib.pyplot as plt\n",
        "plt.xlabel(\"Epoch Number\")\n",
        "plt.ylabel(\"Loss Magnitude\")\n",
        "plt.plot(history.history['loss'])"
      ],
      "execution_count": 126,
      "outputs": [
        {
          "output_type": "execute_result",
          "data": {
            "text/plain": [
              "[<matplotlib.lines.Line2D at 0x7fcf96fea668>]"
            ]
          },
          "metadata": {
            "tags": []
          },
          "execution_count": 126
        },
        {
          "output_type": "display_data",
          "data": {
            "image/png": "[encoded data removed]",
            "text/plain": [
              "<Figure size 432x288 with 1 Axes>"
            ]
          },
          "metadata": {
            "tags": []
          }
        }
      ]
    },
    {
      "cell_type": "code",
      "metadata": {
        "id": "CzGyl_uoNzl2",
        "colab_type": "code",
        "colab": {}
      },
      "source": [
        ""
      ],
      "execution_count": 0,
      "outputs": []
    },
    {
      "cell_type": "markdown",
      "metadata": {
        "id": "Tv9JRrpvORN-",
        "colab_type": "text"
      },
      "source": [
        "## Use the model to predict values"
      ]
    },
    {
      "cell_type": "code",
      "metadata": {
        "id": "RQPUmZGcN7BF",
        "colab_type": "code",
        "outputId": "e22c3119-0ecb-473d-f841-82a4fe2b4e8e",
        "colab": {
          "base_uri": "https://localhost:8080/",
          "height": 34
        }
      },
      "source": [
        "print(\"Predicted value = {}\".format(model.predict([100])))"
      ],
      "execution_count": 127,
      "outputs": [
        {
          "output_type": "stream",
          "text": [
            "Predicted value = [[216.73885]]\n"
          ],
          "name": "stdout"
        }
      ]
    },
    {
      "cell_type": "code",
      "metadata": {
        "id": "GeUbr6v_OlXB",
        "colab_type": "code",
        "colab": {}
      },
      "source": [
        ""
      ],
      "execution_count": 0,
      "outputs": []
    },
    {
      "cell_type": "code",
      "metadata": {
        "id": "GqGItG9cN4vW",
        "colab_type": "code",
        "outputId": "e19d8c89-2cd2-4c60-df23-115e6813a851",
        "colab": {
          "base_uri": "https://localhost:8080/",
          "height": 34
        }
      },
      "source": [
        "print(\"Actual value = {}\".format(F(100)))"
      ],
      "execution_count": 128,
      "outputs": [
        {
          "output_type": "stream",
          "text": [
            "Actual value = 212.0\n"
          ],
          "name": "stdout"
        }
      ]
    },
    {
      "cell_type": "markdown",
      "metadata": {
        "id": "bxRjJDWHPLMH",
        "colab_type": "text"
      },
      "source": [
        "## Looking at the  layer weights"
      ]
    },
    {
      "cell_type": "code",
      "metadata": {
        "id": "0bRMIRk4OrBb",
        "colab_type": "code",
        "outputId": "2fbdbc2d-82e4-4d34-f3bc-99b5e2f803b8",
        "colab": {
          "base_uri": "https://localhost:8080/",
          "height": 34
        }
      },
      "source": [
        "print(\"Layer weights: {}\".format(l0.get_weights()))"
      ],
      "execution_count": 129,
      "outputs": [
        {
          "output_type": "stream",
          "text": [
            "Layer weights: [array([[1.8598073]], dtype=float32), array([30.758114], dtype=float32)]\n"
          ],
          "name": "stdout"
        }
      ]
    },
    {
      "cell_type": "markdown",
      "metadata": {
        "id": "tBbAewBFP3vU",
        "colab_type": "text"
      },
      "source": [
        "## Experiment\n",
        "\n",
        "What if we will create model with more layers?"
      ]
    },
    {
      "cell_type": "code",
      "metadata": {
        "id": "iNioYkvjQC5N",
        "colab_type": "code",
        "outputId": "2071e2da-601d-4580-9d58-bf094b786d45",
        "colab": {
          "base_uri": "https://localhost:8080/",
          "height": 487
        }
      },
      "source": [
        "l0 = tf.keras.layers.Dense(units=4, input_shape=[1])\n",
        "l1 = tf.keras.layers.Dense(units=4)\n",
        "l2 = tf.keras.layers.Dense(units=1)\n",
        "\n",
        "model = tf.keras.Sequential([l0, l1, l2])\n",
        "model.compile(loss='mean_squared_error', optimizer=tf.keras.optimizers.Adam(0.1))\n",
        "history = model.fit(celcius_values, farengheit_values, epochs=500, verbose=False)\n",
        "\n",
        "import matplotlib.pyplot as plt\n",
        "plt.xlabel(\"Epoch Number\")\n",
        "plt.ylabel(\"Loss Magnitude\")\n",
        "plt.plot(history.history['loss'])\n",
        "\n",
        "print(\"Predicted value = {}\".format(model.predict([100])))\n",
        "\n",
        "print(\"l0 weights = {}\".format(l0.get_weights()))\n",
        "print(\"l1 weights = {}\".format(l1.get_weights()))\n",
        "print(\"l2 weights = {}\".format(l2.get_weights()))"
      ],
      "execution_count": 130,
      "outputs": [
        {
          "output_type": "stream",
          "text": [
            "Predicted value = [[212.00002]]\n",
            "l0 weights = [array([[ 0.19889055,  0.900074  , -0.264487  ,  0.05928422]],\n",
            "      dtype=float32), array([3.6436384 , 3.6898181 , 3.162673  , 0.37495187], dtype=float32)]\n",
            "l1 weights = [array([[-0.73049355, -0.877203  , -0.7848131 ,  0.0503989 ],\n",
            "       [-0.72963274,  0.26291415, -0.9118934 ,  0.76220244],\n",
            "       [-0.50683254,  0.21102157, -0.93698657,  0.5506716 ],\n",
            "       [-0.42249912,  0.48881114,  0.14725448,  0.04381904]],\n",
            "      dtype=float32), array([-3.8166566 , -0.15127532, -3.5027232 ,  3.1776016 ], dtype=float32)]\n",
            "l2 weights = [array([[-0.514814  ],\n",
            "       [-0.08706776],\n",
            "       [-0.9980403 ],\n",
            "       [ 1.3153452 ]], dtype=float32), array([3.1959016], dtype=float32)]\n"
          ],
          "name": "stdout"
        },
        {
          "output_type": "display_data",
          "data": {
            "image/png": "[encoded data removed]",
            "text/plain": [
              "<Figure size 432x288 with 1 Axes>"
            ]
          },
          "metadata": {
            "tags": []
          }
        }
      ]
    },
    {
      "cell_type": "markdown",
      "metadata": {
        "id": "G_h2rUb6HUn0",
        "colab_type": "text"
      },
      "source": [
        "## Experiment 2\n",
        "\n",
        "Try to predict y(x) = x *x function"
      ]
    },
    {
      "cell_type": "code",
      "metadata": {
        "id": "VC9YiQR4HZze",
        "colab_type": "code",
        "colab": {
          "base_uri": "https://localhost:8080/",
          "height": 34
        },
        "outputId": "a3058cb5-f05a-4af9-d0a6-a10edac69a07"
      },
      "source": [
        "def F2(x):\n",
        "  return x * x\n",
        "\n",
        "f2_input_values = np.array([])\n",
        "f2_output_values = np.array([])\n",
        "\n",
        "for value in range (0, 25, 2):\n",
        "  f2_input_values = np.append(f2_input_values, value)\n",
        "  f2_output_values = np.append(f2_output_values, F2(value))\n",
        "\n",
        "print(\"F2 values input = {} output = {}\".format(f2_input_values, f2_output_values))\n",
        "  "
      ],
      "execution_count": 131,
      "outputs": [
        {
          "output_type": "stream",
          "text": [
            "F2 values input = [ 0.  2.  4.  6.  8. 10. 12. 14. 16. 18. 20. 22. 24.] output = [  0.   4.  16.  36.  64. 100. 144. 196. 256. 324. 400. 484. 576.]\n"
          ],
          "name": "stdout"
        }
      ]
    },
    {
      "cell_type": "code",
      "metadata": {
        "id": "psMpb29yJJ-C",
        "colab_type": "code",
        "colab": {
          "base_uri": "https://localhost:8080/",
          "height": 300
        },
        "outputId": "be24df8d-0172-41bd-f77f-3feed9271d82"
      },
      "source": [
        "l0 = tf.keras.layers.Dense(units=1, input_shape=[1])\n",
        "model = tf.keras.Sequential([l0])\n",
        "model.compile(loss=\"mean_squared_error\", optimizer=tf.keras.optimizers.Adam(0.1))\n",
        "history = model.fit(f2_input_values, f2_output_values, epochs=500, verbose=False)\n",
        "\n",
        "import matplotlib.pyplot as plt\n",
        "plt.xlabel(\"Epoch Number\")\n",
        "plt.ylabel(\"Loss Magnitude\")\n",
        "plt.plot(history.history['loss'])"
      ],
      "execution_count": 132,
      "outputs": [
        {
          "output_type": "execute_result",
          "data": {
            "text/plain": [
              "[<matplotlib.lines.Line2D at 0x7fcf96a659b0>]"
            ]
          },
          "metadata": {
            "tags": []
          },
          "execution_count": 132
        },
        {
          "output_type": "display_data",
          "data": {
            "image/png": "[encoded data removed]",
            "text/plain": [
              "<Figure size 432x288 with 1 Axes>"
            ]
          },
          "metadata": {
            "tags": []
          }
        }
      ]
    },
    {
      "cell_type": "markdown",
      "metadata": {
        "id": "buJkm3rBNf8c",
        "colab_type": "text"
      },
      "source": [
        "**Let's compare our predictions on 2D graphic**"
      ]
    },
    {
      "cell_type": "code",
      "metadata": {
        "id": "WlIViN90Kuju",
        "colab_type": "code",
        "colab": {
          "base_uri": "https://localhost:8080/",
          "height": 300
        },
        "outputId": "931a40d1-43b1-49d2-b10e-03f02068886c"
      },
      "source": [
        "f2_input_test_values = np.array([])\n",
        "f2_predicted_values = np.array([])\n",
        "f2_actual_values = np.array([])\n",
        "\n",
        "for value in range (0, 100, 1):\n",
        "  f2_input_test_values = np.append(f2_input_test_values, value)\n",
        "  f2_actual_values = np.append(f2_actual_values, F2(value))\n",
        "  \n",
        "f2_predicted_values = model.predict(f2_input_test_values)\n",
        "import matplotlib.pyplot as plt\n",
        "\n",
        "plt.xlabel(\"Value\")\n",
        "plt.ylabel(\"X*X\")\n",
        "plt.plot(f2_input_test_values, f2_actual_values, color='red')\n",
        "plt.plot(f2_input_test_values, f2_predicted_values, color='blue')"
      ],
      "execution_count": 133,
      "outputs": [
        {
          "output_type": "execute_result",
          "data": {
            "text/plain": [
              "[<matplotlib.lines.Line2D at 0x7fcf96a6d518>]"
            ]
          },
          "metadata": {
            "tags": []
          },
          "execution_count": 133
        },
        {
          "output_type": "display_data",
          "data": {
            "image/png": "[encoded data removed]",
            "text/plain": [
              "<Figure size 432x288 with 1 Axes>"
            ]
          },
          "metadata": {
            "tags": []
          }
        }
      ]
    },
    {
      "cell_type": "markdown",
      "metadata": {
        "id": "aF-Hn1h4M2gT",
        "colab_type": "text"
      },
      "source": [
        "### Summary:\n",
        "System with one neuron can predict only linear data\n",
        "\n",
        "### Let's try to model our function with more complex model with multiple neurons"
      ]
    },
    {
      "cell_type": "code",
      "metadata": {
        "id": "BhGBAM66NPwq",
        "colab_type": "code",
        "colab": {
          "base_uri": "https://localhost:8080/",
          "height": 300
        },
        "outputId": "79ac0a08-05a9-4a44-9dfa-ef2ff4240e55"
      },
      "source": [
        "l0 = tf.keras.layers.Dense(units=4, input_shape=[1])\n",
        "l1 = tf.keras.layers.Dense(units=4)\n",
        "l2 = tf.keras.layers.Dense(units=4)\n",
        "l3 = tf.keras.layers.Dense(units=4)\n",
        "l4 = tf.keras.layers.Dense(units=1)\n",
        "\n",
        "model2 = tf.keras.Sequential([l0, l1, l2, l3, l4])\n",
        "model2.compile(loss='mean_squared_error', optimizer=tf.keras.optimizers.Adam(0.1))\n",
        "history = model2.fit(f2_input_values, f2_output_values, epochs=1500, verbose=False)\n",
        "\n",
        "import matplotlib.pyplot as plt\n",
        "\n",
        "plt.xlabel(\"Epochs\")\n",
        "plt.ylabel(\"Loss\")\n",
        "plt.plot(history.history[\"loss\"])"
      ],
      "execution_count": 134,
      "outputs": [
        {
          "output_type": "execute_result",
          "data": {
            "text/plain": [
              "[<matplotlib.lines.Line2D at 0x7fcf9657da58>]"
            ]
          },
          "metadata": {
            "tags": []
          },
          "execution_count": 134
        },
        {
          "output_type": "display_data",
          "data": {
            "image/png": "[encoded data removed]",
            "text/plain": [
              "<Figure size 432x288 with 1 Axes>"
            ]
          },
          "metadata": {
            "tags": []
          }
        }
      ]
    },
    {
      "cell_type": "code",
      "metadata": {
        "id": "TcCXpXG8Pf6n",
        "colab_type": "code",
        "colab": {
          "base_uri": "https://localhost:8080/",
          "height": 640
        },
        "outputId": "61623b72-ec6e-474f-c8f9-bcbc86ae39a3"
      },
      "source": [
        "f2_input_test_values = np.array([])\n",
        "f2_actual_values = np.array([])\n",
        "\n",
        "for value in range (0, 100, 2):\n",
        "  f2_input_test_values = np.append(f2_input_test_values, value)\n",
        "  f2_actual_values = np.append(f2_actual_values, F2(value))\n",
        "  \n",
        "f2_predicted_values = model2.predict(f2_input_test_values)\n",
        "import matplotlib.pyplot as plt\n",
        "\n",
        "plt.xlabel(\"Value\")\n",
        "plt.ylabel(\"X*X\")\n",
        "plt.plot(f2_input_test_values, f2_actual_values, color='red')\n",
        "plt.plot(f2_input_test_values, f2_predicted_values, color='blue')\n",
        "print(\"l0 weights = {}\".format(l0.get_weights()))\n",
        "print(\"l1 weights = {}\".format(l1.get_weights()))\n",
        "print(\"l2 weights = {}\".format(l2.get_weights()))\n",
        "print(\"l2 weights = {}\".format(l3.get_weights()))\n",
        "print(\"l2 weights = {}\".format(l4.get_weights()))"
      ],
      "execution_count": 135,
      "outputs": [
        {
          "output_type": "stream",
          "text": [
            "l0 weights = [array([[ 0.7338541 , -1.4631648 ,  0.5171489 ,  0.19271976]],\n",
            "      dtype=float32), array([-2.2360666,  1.7628924, -2.796809 , -1.1772872], dtype=float32)]\n",
            "l1 weights = [array([[-0.6349449 ,  0.08616359, -0.01765263, -1.5020938 ],\n",
            "       [-0.45232505, -0.6800494 , -0.972311  ,  1.0143611 ],\n",
            "       [-0.7614115 ,  0.93601483,  0.6958388 , -0.14159597],\n",
            "       [ 0.0060686 , -0.6345137 ,  0.9598831 , -0.47015727]],\n",
            "      dtype=float32), array([ 1.8083836, -1.2315036, -1.7460183,  1.4768646], dtype=float32)]\n",
            "l2 weights = [array([[ 0.00337537,  0.19497423,  1.0167874 ,  0.7960888 ],\n",
            "       [-0.81638026, -0.24081717,  0.15893042, -0.9862021 ],\n",
            "       [-0.21310705,  0.7186266 ,  0.11273953, -1.1039932 ],\n",
            "       [-0.3462792 ,  0.19226351,  0.06406358,  1.2902938 ]],\n",
            "      dtype=float32), array([ 0.98695225, -0.6978285 , -2.0564911 ,  1.0382409 ], dtype=float32)]\n",
            "l2 weights = [array([[-0.5098255 , -0.13692296, -0.00677286, -1.4129477 ],\n",
            "       [ 0.37926096,  0.3961618 ,  0.24996561,  0.7140022 ],\n",
            "       [-0.26056963, -0.7242983 ,  0.41823852,  0.6755683 ],\n",
            "       [-1.4259753 ,  0.6772874 , -1.00245   ,  0.21288387]],\n",
            "      dtype=float32), array([-0.5879796 ,  0.06808204, -0.5397629 ,  2.1755707 ], dtype=float32)]\n",
            "l2 weights = [array([[ 1.378512 ],\n",
            "       [-0.6565178],\n",
            "       [ 0.7942987],\n",
            "       [-0.2379895]], dtype=float32), array([-0.3115209], dtype=float32)]\n"
          ],
          "name": "stdout"
        },
        {
          "output_type": "display_data",
          "data": {
            "image/png": "[encoded data removed]",
            "text/plain": [
              "<Figure size 432x288 with 1 Axes>"
            ]
          },
          "metadata": {
            "tags": []
          }
        }
      ]
    },
    {
      "cell_type": "markdown",
      "metadata": {
        "id": "WVuK5-SumBmk",
        "colab_type": "text"
      },
      "source": [
        "## Questions:\n",
        "\n",
        "\n",
        "Why we can't model non-linear functions, is it because we use linear functions inside neurouns?\n",
        "\n"
      ]
    }
  ]
}